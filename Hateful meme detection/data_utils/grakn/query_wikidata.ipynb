{
 "cells": [
  {
   "cell_type": "code",
   "execution_count": 1,
   "metadata": {},
   "outputs": [
    {
     "name": "stderr",
     "output_type": "stream",
     "text": [
      "/home/ron/miniconda3/envs/vl-bert/lib/python3.6/site-packages/graph_tool/draw/cairo_draw.py:1494: RuntimeWarning: Error importing Gtk module: No module named 'gi'; GTK+ drawing will not work.\n",
      "  warnings.warn(msg, RuntimeWarning)\n"
     ]
    }
   ],
   "source": [
    "import os\n",
    "import pandas as pd\n",
    "import networkx as nx\n",
    "from termcolor import colored\n",
    "from loguru import logger\n",
    "from graph_tool.all import *"
   ]
  },
  {
   "cell_type": "code",
   "execution_count": 47,
   "metadata": {},
   "outputs": [],
   "source": [
    "\n",
    "def walk_all_path(G, paths):\n",
    "    for path in paths:\n",
    "        path_str = ''\n",
    "        \n",
    "        for i, vid in enumerate(path):\n",
    "            if i == 0:\n",
    "                v_lab = colored(G.vp['label'][G.vertex(path[0])], color='green')\n",
    "                edge = G.edge(G.vertex(vid), G.vertex(path[1]))\n",
    "#                 e_lab = G.ep['property_id'][edge]\n",
    "                e_lab = ''\n",
    "                path_str += f'{v_lab} -{e_lab}-> '\n",
    "            elif i == len(path) - 1:\n",
    "                v_lab = colored(G.vp['label'][G.vertex(vid)], color='green')\n",
    "                path_str += f'{v_lab}'\n",
    "            else:\n",
    "                v_lab = colored(G.vp['label'][G.vertex(vid)], color='blue')\n",
    "                edge = G.edge(G.vertex(vid), G.vertex(path[i - 1]))\n",
    "#                 e_lab = G.ep['property_id'][edge]\n",
    "                e_lab = ''\n",
    "                path_str += f'{v_lab} -{e_lab}-> '\n",
    "        \n",
    "        print(path_str)"
   ]
  },
  {
   "cell_type": "code",
   "execution_count": 2,
   "metadata": {},
   "outputs": [],
   "source": [
    "openmp_set_num_threads(16)"
   ]
  },
  {
   "cell_type": "code",
   "execution_count": 3,
   "metadata": {},
   "outputs": [],
   "source": [
    "graph_file = \"/home/ron/Documents/wikidata.xml.gz\""
   ]
  },
  {
   "cell_type": "code",
   "execution_count": 4,
   "metadata": {},
   "outputs": [],
   "source": [
    "G = load_graph(graph_file)"
   ]
  },
  {
   "cell_type": "code",
   "execution_count": 8,
   "metadata": {},
   "outputs": [],
   "source": [
    "jewish = find_vertex(G, G.vertex_properties[\"id\"], 7325)[0]\n",
    "nazi = find_vertex(G, G.vertex_properties[\"id\"], 574578)[0]\n",
    "\n",
    "\n"
   ]
  },
  {
   "cell_type": "code",
   "execution_count": 58,
   "metadata": {},
   "outputs": [],
   "source": [
    "mosque = find_vertex(G, G.vertex_properties[\"id\"], 32815)[0]\n",
    "gay = find_vertex(G, G.vertex_properties[\"id\"], 592)[0]\n",
    "stoning = find_vertex(G, G.vertex_properties[\"id\"], 193777)[0]\n",
    "firearm = find_vertex(G, G.vertex_properties[\"id\"], 12796)[0]\n",
    "mass_shooting = find_vertex(G, G.vertex_properties[\"id\"], 21480300)[0]"
   ]
  },
  {
   "cell_type": "code",
   "execution_count": 6,
   "metadata": {},
   "outputs": [],
   "source": [
    "G.set_directed(False)"
   ]
  },
  {
   "cell_type": "code",
   "execution_count": 59,
   "metadata": {},
   "outputs": [],
   "source": [
    "paths = list(all_shortest_paths(G, mass_shooting, mosque))"
   ]
  },
  {
   "cell_type": "code",
   "execution_count": 60,
   "metadata": {},
   "outputs": [
    {
     "data": {
      "text/plain": [
       "[array([14293184,   626432,   125412,  1071014,      143,      853,\n",
       "          396928,    30771], dtype=uint64),\n",
       " array([14293184,   626432,   125412,   560718,      167,      853,\n",
       "          396928,    30771], dtype=uint64),\n",
       " array([14293184,   626432,   125412,   560718,      167,      853,\n",
       "          396928,    30771], dtype=uint64),\n",
       " array([14293184,   626432,   125412,   497493,    32096,  1101425,\n",
       "          396928,    30771], dtype=uint64),\n",
       " array([14293184,   626432,   125412, 12777948,    32096,  1101425,\n",
       "          396928,    30771], dtype=uint64)]"
      ]
     },
     "execution_count": 60,
     "metadata": {},
     "output_type": "execute_result"
    }
   ],
   "source": [
    "paths"
   ]
  },
  {
   "cell_type": "code",
   "execution_count": 61,
   "metadata": {},
   "outputs": [
    {
     "name": "stdout",
     "output_type": "stream",
     "text": [
      "\u001b[32mmass shooting\u001b[0m --> \u001b[34mmass murder\u001b[0m --> \u001b[34mmurder\u001b[0m --> \u001b[34mvoluntary manslaughter\u001b[0m --> \u001b[34mRussia\u001b[0m --> \u001b[34mAfghanistan\u001b[0m --> \u001b[34memblem of Afghanistan\u001b[0m --> \u001b[32mmosque\u001b[0m\n",
      "\u001b[32mmass shooting\u001b[0m --> \u001b[34mmass murder\u001b[0m --> \u001b[34mmurder\u001b[0m --> \u001b[34mStrafgesetzbuch\u001b[0m --> \u001b[34mGermany\u001b[0m --> \u001b[34mAfghanistan\u001b[0m --> \u001b[34memblem of Afghanistan\u001b[0m --> \u001b[32mmosque\u001b[0m\n",
      "\u001b[32mmass shooting\u001b[0m --> \u001b[34mmass murder\u001b[0m --> \u001b[34mmurder\u001b[0m --> \u001b[34mStrafgesetzbuch\u001b[0m --> \u001b[34mGermany\u001b[0m --> \u001b[34mAfghanistan\u001b[0m --> \u001b[34memblem of Afghanistan\u001b[0m --> \u001b[32mmosque\u001b[0m\n",
      "\u001b[32mmass shooting\u001b[0m --> \u001b[34mmass murder\u001b[0m --> \u001b[34mmurder\u001b[0m --> \u001b[34mBrockhaus and Efron Encyclopedic Dictionary\u001b[0m --> \u001b[34mRussian Empire\u001b[0m --> \u001b[34mEmirate of Afghanistan\u001b[0m --> \u001b[34memblem of Afghanistan\u001b[0m --> \u001b[32mmosque\u001b[0m\n",
      "\u001b[32mmass shooting\u001b[0m --> \u001b[34mmass murder\u001b[0m --> \u001b[34mmurder\u001b[0m --> \u001b[34mSmall Brockhaus and Efron Encyclopedic Dictionary\u001b[0m --> \u001b[34mRussian Empire\u001b[0m --> \u001b[34mEmirate of Afghanistan\u001b[0m --> \u001b[34memblem of Afghanistan\u001b[0m --> \u001b[32mmosque\u001b[0m\n"
     ]
    }
   ],
   "source": [
    "walk_all_path(G, paths)"
   ]
  },
  {
   "cell_type": "code",
   "execution_count": 42,
   "metadata": {},
   "outputs": [],
   "source": [
    "eppid = G.ep['property_id']"
   ]
  },
  {
   "cell_type": "code",
   "execution_count": 43,
   "metadata": {},
   "outputs": [],
   "source": [
    "arr = eppid.get_array()"
   ]
  },
  {
   "cell_type": "code",
   "execution_count": 44,
   "metadata": {},
   "outputs": [
    {
     "data": {
      "text/plain": [
       "False"
      ]
     },
     "execution_count": 44,
     "metadata": {},
     "output_type": "execute_result"
    }
   ],
   "source": [
    "arr is None"
   ]
  },
  {
   "cell_type": "code",
   "execution_count": 46,
   "metadata": {},
   "outputs": [
    {
     "data": {
      "text/plain": [
       "PropertyArray([  31,  279,  398,  398,  398,  398,  398,  398,  398,  461,\n",
       "                527,  527,  793,  793,  793,  793,  793,  793,  793,  828,\n",
       "                910, 1343, 1419, 1424, 1552, 1889, 1889, 2184, 2579, 2670,\n",
       "               2670, 2670, 2670, 2670, 2670, 2670, 5008,   31,  138,  163,\n",
       "                170,  170,  276,  361,  397,  398,  398,  398,  398,  398,\n",
       "                398,  398,  460,  461,  522,  522,  527,  527,  527,  527,\n",
       "                527,  527,  527,  527,  527,  527,  527,  610,  610,  706,\n",
       "                910,  913, 1343, 1343, 1343, 1343, 1343, 1343, 1419, 1552,\n",
       "               1552, 1552, 1557, 1589, 1889, 1889, 2184, 2184, 2579, 2579,\n",
       "               2579, 2633, 2959, 5008, 5125,   31,  279,  279,  279,  361],\n",
       "              dtype=int32)"
      ]
     },
     "execution_count": 46,
     "metadata": {},
     "output_type": "execute_result"
    }
   ],
   "source": [
    "arr[:100]"
   ]
  },
  {
   "cell_type": "code",
   "execution_count": 51,
   "metadata": {},
   "outputs": [
    {
     "name": "stdout",
     "output_type": "stream",
     "text": [
      "\u001b[32mexecution method\u001b[0m --> \u001b[34mcapital punishment\u001b[0m --> \u001b[34mReal'nyj slovar' klassicheskih drevnostej po Ljubkeru\u001b[0m --> \u001b[34mWikiProject Human rights\u001b[0m --> \u001b[34mStephen\u001b[0m --> \u001b[34mPetronius Maximus\u001b[0m --> \u001b[34mRamon Llull\u001b[0m --> \u001b[34mJames the Just\u001b[0m --> \u001b[34mSaint Matthias\u001b[0m --> \u001b[34mHamza Hakimzade Niyazi\u001b[0m --> \u001b[34mAnsverus\u001b[0m --> \u001b[34mOlympias\u001b[0m --> \u001b[34mSakineh Mohammadi Ashtiani\u001b[0m --> \u001b[34mAnthony Neyrot\u001b[0m --> \u001b[34mGhofrane Haddaoui\u001b[0m --> \u001b[34mOnesimus\u001b[0m --> \u001b[34mPhilotas\u001b[0m --> \u001b[34mLucius Appuleius Saturninus\u001b[0m --> \u001b[34mPrusias II of Bithynia\u001b[0m --> \u001b[34mTarcisius\u001b[0m --> \u001b[34mStoning of Du'a Khalil Aswad\u001b[0m --> \u001b[34mAxel von Fersen the Younger\u001b[0m --> \u001b[34mArchippus\u001b[0m --> \u001b[34mBlot-Sweyn\u001b[0m --> \u001b[34mSoraya Manutchehri\u001b[0m --> \u001b[34mPhilemon\u001b[0m --> \u001b[34mAulus Postumius Albinus\u001b[0m --> \u001b[34mPierina Morosini\u001b[0m --> \u001b[34mPalladius\u001b[0m --> \u001b[34mHesychius of Cazorla\u001b[0m --> \u001b[34mAbibos of Nekresi\u001b[0m --> \u001b[34mHunald of Aquitaine\u001b[0m --> \u001b[34mSaint Eskil\u001b[0m --> \u001b[34mSaint Telemachus\u001b[0m --> \u001b[34mSaint Warinus\u001b[0m --> \u001b[34mDesiderius of Vienne\u001b[0m --> \u001b[34mPublius Postumius Albus Regillensis\u001b[0m --> \u001b[34mRaynerius of Split\u001b[0m --> \u001b[34mStoning Verse\u001b[0m --> \u001b[34mLiberat Weiß\u001b[0m --> \u001b[34mAchan\u001b[0m --> \u001b[34mIshikozume\u001b[0m --> \u001b[34mZenaida\u001b[0m --> \u001b[34mZechariah ben Jehoiada\u001b[0m --> \u001b[34mEmerentiana\u001b[0m --> \u001b[34mAntonino Fantosati\u001b[0m --> \u001b[34mThe Stoning of Saint Stephen\u001b[0m --> \u001b[34mAristocrate Ier\u001b[0m --> \u001b[34mGuiraude de Lavaur\u001b[0m --> \u001b[34mJames the Less\u001b[0m --> \u001b[34mStevenson Magloire\u001b[0m --> \u001b[34mThe Stoning of St Stephen\u001b[0m --> \u001b[34mPietro di Campofregoso\u001b[0m --> \u001b[34mAdoniram\u001b[0m --> \u001b[34mnan\u001b[0m --> \u001b[34mGiuseppe Maria Gambaro\u001b[0m --> \u001b[34mIosif Persidskiy\u001b[0m --> \u001b[34mMaximus of Rome\u001b[0m --> \u001b[34mChief Tenaya\u001b[0m --> \u001b[34mCoes of Mytilene\u001b[0m --> \u001b[34mCointha\u001b[0m --> \u001b[34mDan Eldon\u001b[0m --> \u001b[34mIrene Syrikaina\u001b[0m --> \u001b[34mJohn Lambe\u001b[0m --> \u001b[34mJohn Waller\u001b[0m --> \u001b[34mMáel Gualae\u001b[0m --> \u001b[34mSahibzada Abdul Latif\u001b[0m --> \u001b[34mSostratus of Macedon\u001b[0m --> \u001b[34mCategory:People executed by stoning\u001b[0m --> \u001b[34mSamuele Marzorati\u001b[0m --> \u001b[34mMichele Pio Fasoli\u001b[0m --> \u001b[34mHermolaos\u001b[0m --> \u001b[34mnan\u001b[0m --> \u001b[34mIvo Cappo\u001b[0m --> \u001b[34mAisha Ibrahim Duhulow\u001b[0m --> \u001b[34mPhilotas\u001b[0m --> \u001b[34mThe Stoning of St. Stephen\u001b[0m --> \u001b[34mThe Stoning of Saint Stephen\u001b[0m --> \u001b[34mChrist and the woman taken in adultery\u001b[0m --> \u001b[34mChase (son of Ioube)\u001b[0m --> \u001b[34mBrignol Lindor\u001b[0m --> \u001b[34mMartyrdom of St Stephen\u001b[0m --> \u001b[34mMelville Edelstein\u001b[0m --> \u001b[34mCategory:Executions by stoning\u001b[0m --> \u001b[34mStoning of Saint Etienne\u001b[0m --> \u001b[34mnan\u001b[0m --> \u001b[34mnan\u001b[0m --> \u001b[34mnan\u001b[0m --> \u001b[34mnan\u001b[0m --> \u001b[34mStoning of St. Stephen\u001b[0m --> \u001b[34mMartyrs of Adrianople\u001b[0m --> \u001b[34mSaint Stephen Triptych\u001b[0m --> \u001b[32mnan\u001b[0m\n"
     ]
    }
   ],
   "source": [
    "walk_all_path(G, [G.get_all_neighbors(stoning)])"
   ]
  },
  {
   "cell_type": "code",
   "execution_count": 2,
   "metadata": {},
   "outputs": [],
   "source": [
    "from transformers import RobertaTokenizer, RobertaModel\n",
    "tokenizer = RobertaTokenizer.from_pretrained('roberta-large')\n",
    "model = RobertaModel.from_pretrained('roberta-large')"
   ]
  },
  {
   "cell_type": "code",
   "execution_count": 4,
   "metadata": {},
   "outputs": [],
   "source": [
    "text = \"Replace me by any text you'd like.\"\n",
    "encoded_input = tokenizer([text, text, 'A little cat'], return_tensors='pt', padding=True)\n",
    "output = model(**encoded_input)"
   ]
  },
  {
   "cell_type": "code",
   "execution_count": 2,
   "metadata": {},
   "outputs": [],
   "source": [
    "data_dir = '/media/ron/B008F6C208F6871E/KenshoDerivedWikimediaDataset'\n",
    "item_tab = pd.read_csv(os.path.join(data_dir, 'item.csv'))\n",
    "aliase_tab = pd.read_csv(os.path.join(data_dir, 'item_aliases.csv'))"
   ]
  },
  {
   "cell_type": "code",
   "execution_count": 11,
   "metadata": {},
   "outputs": [
    {
     "data": {
      "text/plain": [
       "torch.Size([2, 1024])"
      ]
     },
     "execution_count": 11,
     "metadata": {},
     "output_type": "execute_result"
    }
   ],
   "source": [
    "output[1].shape"
   ]
  },
  {
   "cell_type": "code",
   "execution_count": null,
   "metadata": {},
   "outputs": [],
   "source": []
  }
 ],
 "metadata": {
  "kernelspec": {
   "display_name": "vl-bert",
   "language": "python",
   "name": "vl-bert"
  },
  "language_info": {
   "codemirror_mode": {
    "name": "ipython",
    "version": 3
   },
   "file_extension": ".py",
   "mimetype": "text/x-python",
   "name": "python",
   "nbconvert_exporter": "python",
   "pygments_lexer": "ipython3",
   "version": "3.6.10"
  }
 },
 "nbformat": 4,
 "nbformat_minor": 4
}
